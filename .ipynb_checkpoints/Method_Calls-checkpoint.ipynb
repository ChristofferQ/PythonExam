{
 "cells": [
  {
   "cell_type": "code",
   "execution_count": null,
   "id": "0a1e3388-fa4c-45bd-9096-671c990b7783",
   "metadata": {},
   "outputs": [],
   "source": [
    "from Modules.populate_data import populate_price\n",
    "\n",
    "populate_price()"
   ]
  },
  {
   "cell_type": "code",
   "execution_count": 2,
   "id": "2a7e2d4a-fb80-4688-a552-05243d3ca9ce",
   "metadata": {},
   "outputs": [],
   "source": [
    "from Modules.populate_data import populate_nourishment\n",
    "\n",
    "populate_nourishment()"
   ]
  },
  {
   "cell_type": "code",
   "execution_count": 2,
   "id": "afa2716d-7307-4412-a287-79e2a51412b3",
   "metadata": {
    "collapsed": true,
    "jupyter": {
     "outputs_hidden": true
    },
    "tags": []
   },
   "outputs": [
    {
     "name": "stdout",
     "output_type": "stream",
     "text": [
      "Grøntsager\n",
      "Kartofler\n",
      "Squash\n",
      "Avocado\n",
      "Aubergine\n",
      "Spinat\n",
      "Kål\n",
      "Rodfrugter\n",
      "Græskar\n",
      "Broccoli\n",
      "Peberfrugt\n",
      "Tomater\n",
      "Porrer\n",
      "Bønner\n",
      "Ramsløg\n",
      "Asparges\n",
      "Svampe\n",
      "Agurk\n",
      "Fennikel\n",
      "Blomkål\n",
      "Grøntsagsfrikadeller\n",
      "Grøntsager i ovn\n",
      "Grøntsager på panden\n",
      "Ost\n",
      "Rygeost\n",
      "Hytteost\n",
      "Chili\n",
      "Frugt\n",
      "Hyldeblomst\n",
      "Rabarber\n",
      "Frugttærte\n",
      "Bær\n",
      "Melon\n",
      "Frugtsalat\n",
      "Marmelade\n",
      "Pærer\n",
      "Ananas\n",
      "Bananer\n",
      "Mango\n",
      "Æbler\n",
      "Blommer\n",
      "Appelsin\n",
      "Granatæble\n",
      "Fjerkræ\n",
      "Kylling\n",
      "And\n",
      "Kalkun\n",
      "Krydderurter\n",
      "Mynte\n",
      "Basilikum\n",
      "Persille\n",
      "Quinoa\n",
      "Ingefær\n",
      "Skyr\n",
      "Fiskeopskrifter\n",
      "Laks\n",
      "Torsk\n",
      "Tun\n",
      "Hellefisk\n",
      "Skaldyr\n",
      "Makrel\n",
      "Fiskesuppe\n",
      "Rødspætter\n",
      "Fiskeopskrifter til børn\n",
      "Fiskefrikadeller\n",
      "Stenbiderrogn\n",
      "Fisk i ovn\n",
      "Forretter med fisk\n",
      "Pasta\n",
      "Spaghetti\n",
      "Pastasalat\n",
      "Pastaretter med kylling\n",
      "Pastaretter med spinat\n",
      "Pasta med bacon\n",
      "Pastaretter med laks\n",
      "One pot pasta\n",
      "Pasta i ovn\n",
      "Mad med øl\n",
      "Lakrids\n",
      "Couscous\n",
      "Nutella\n",
      "Kødretter\n",
      "Oksekød\n",
      "Svinekød\n",
      "Lam\n",
      "Mørbrad\n",
      "Vildt\n",
      "Pølser\n",
      "Kødsovs\n",
      "Koteletter\n",
      "Kalvekød\n",
      "Bøf opskrifter\n",
      "Bacon\n",
      "Kødboller\n",
      "Hakket oksekød & bacon\n",
      "Æg\n",
      "Æggekage\n",
      "Omelet\n",
      "Røræg\n",
      "Spejlæg\n",
      "Æggesalat\n",
      "Æggemuffins\n",
      "Opskrifter med Ris\n",
      "Risretter\n",
      "Risotto\n",
      "Opskrifter med nudler\n",
      "Edamamebønner\n",
      "Kikærter\n"
     ]
    }
   ],
   "source": [
    "from Modules.ingredients import get_all_ingredients\n",
    "\n",
    "get_all_ingredients()\n"
   ]
  },
  {
   "cell_type": "code",
   "execution_count": 3,
   "id": "3cfe6b46-24f4-4858-bc24-98783d5a34d8",
   "metadata": {
    "collapsed": true,
    "jupyter": {
     "outputs_hidden": true
    },
    "tags": []
   },
   "outputs": [
    {
     "name": "stdin",
     "output_type": "stream",
     "text": [
      "Your ingredient:  Æg\n"
     ]
    },
    {
     "name": "stdout",
     "output_type": "stream",
     "text": [
      "\n",
      "1 \t Æg i muffinsforme\n",
      "2 \t Æg med fyld og bacon\n",
      "3 \t Nem italiensk ret med æg i tomatsauce\n",
      "4 \t Æggemuffins med blomkål\n",
      "5 \t Marmorerede æg\n",
      "6 \t Pocheret æg med laks\n",
      "7 \t Æggesalat med flødeost\n",
      "8 \t Brunch æg i ovn\n",
      "9 \t Blomkålsgratin med bacon og kartofler\n",
      "10 \t Fedtfattig æggesalat med skyr\n",
      "11 \t Hjemmelavet æggesalat\n",
      "12 \t Kartoffelmos med æg\n",
      "13 \t LCHF æggewraps med oksekød og grøntsager\n",
      "14 \t Maskeret blomkål med rejer\n",
      "15 \t Maskeret blomkål med skinke og bacon\n",
      "\n"
     ]
    },
    {
     "name": "stdin",
     "output_type": "stream",
     "text": [
      "Your recipe: 3\n"
     ]
    },
    {
     "name": "stdout",
     "output_type": "stream",
     "text": [
      "\n",
      "   Meassurement  Unit   Ingredient\n",
      "0         1 1/2  spsk   Olivenolie\n",
      "1             1   fed      Hvidløg\n",
      "2           225     g   Tomatsauce\n",
      "3           1/4   tsk  Chilipulver\n",
      "4           1/4   tsk      Oregano\n",
      "5             2  None           Æg\n",
      "6            15     g  Parmesanost\n",
      "7          None  None         Salt\n",
      "8          None  None        Peber\n",
      "9          None  None       Purløg\n",
      "10         None  None         Brød\n",
      "\n",
      "Sådan laver du rettenKom olivenolien på en pande, og varm det op ved svag-middel varme. Riv hvidløget på den fine side af rivejernet, og vend det rundt i den varme olivenolie. Lad det stege i et minut.Tilsæt tomatsauce, chilipulver og oregano. Skru op til middel varme, og lad det simre i 5 minutter.Slå æggene ud i tomatsaucenLav huller i tomatsaucen, og slå æggene ud heri. Riv parmesanosten over, og krydr godt med salt og peber. Dæk panden med sølvpapir, eller læg låg på. Lad retten simre i 3 minutter. Tag den herefter af varmen, og lad den stå i yderligere 3 minutter - så skulle hviden gerne have sat sig, mens blommen stadig er lidt flydende.Servér den dejlige italienske ret med purløg, ristet brød og evt. et ekstra stænk olivenolie og lidt ekstra parmesanost.Skal I også have dessert?Så kan jeg anbefale denne nemme italienske dessert. \n"
     ]
    }
   ],
   "source": [
    "from Modules.ingredients import search_for_recipes_by_ingredient\n",
    "\n",
    "search_for_recipes_by_ingredient()"
   ]
  },
  {
   "cell_type": "code",
   "execution_count": 4,
   "id": "60371bbe-25b0-4694-941a-3f768f9ed578",
   "metadata": {
    "collapsed": true,
    "jupyter": {
     "outputs_hidden": true
    },
    "tags": []
   },
   "outputs": [
    {
     "name": "stdout",
     "output_type": "stream",
     "text": [
      "    Ingredient  Price Meassurement Unit\n",
      "0           Æg     78            2  NaN\n",
      "1         Salt     91          NaN  NaN\n",
      "2        Peber     89          NaN  NaN\n",
      "3       Purløg     27          NaN  NaN\n",
      "4      Hvidløg     70            1  fed\n",
      "5      Oregano     56          1/4  tsk\n",
      "6  Parmesanost     16           15    g\n"
     ]
    },
    {
     "data": {
      "image/png": "[encoded data removed]",
      "text/plain": [
       "<Figure size 1000x500 with 1 Axes>"
      ]
     },
     "metadata": {},
     "output_type": "display_data"
    }
   ],
   "source": [
    "from Modules.ingredients import get_price_of_ingredients\n",
    "\n",
    "get_price_of_ingredients(\"recipe_ingredients\")"
   ]
  },
  {
   "cell_type": "code",
   "execution_count": 5,
   "id": "1cbedeea-6b55-44a0-a700-015e61dd242f",
   "metadata": {
    "collapsed": true,
    "jupyter": {
     "outputs_hidden": true
    },
    "tags": []
   },
   "outputs": [
    {
     "name": "stdout",
     "output_type": "stream",
     "text": [
      "    Ingredient  Kcal Meassurement Unit\n",
      "0           Æg    41            2  NaN\n",
      "1         Salt    16          NaN  NaN\n",
      "2        Peber    43          NaN  NaN\n",
      "3       Purløg    45          NaN  NaN\n",
      "4      Hvidløg    45            1  fed\n",
      "5      Oregano    75          1/4  tsk\n",
      "6  Parmesanost    30           15    g\n"
     ]
    },
    {
     "data": {
      "image/png": "[encoded data removed]",
      "text/plain": [
       "<Figure size 1000x500 with 1 Axes>"
      ]
     },
     "metadata": {},
     "output_type": "display_data"
    }
   ],
   "source": [
    "from Modules.ingredients import get_nourishment_for_ingredients\n",
    "\n",
    "get_nourishment_for_ingredients(\"recipe_ingredients\")"
   ]
  },
  {
   "cell_type": "code",
   "execution_count": 6,
   "id": "f1fb571b-a81f-4fec-bccd-b7f597ea4335",
   "metadata": {},
   "outputs": [
    {
     "name": "stdout",
     "output_type": "stream",
     "text": [
      "  Meassurement Unit   Ingredient  Price  Kcal\n",
      "0            1  fed      Hvidløg     70    45\n",
      "1          1/4  tsk      Oregano     56    75\n",
      "2            2  NaN           Æg     78    41\n",
      "3           15    g  Parmesanost     16    30\n",
      "4          NaN  NaN         Salt     91    16\n",
      "5          NaN  NaN        Peber     89    43\n",
      "6          NaN  NaN       Purløg     27    45\n"
     ]
    }
   ],
   "source": [
    "from Modules.ingredients import get_price_and_nourishment_for_ingredients\n",
    "\n",
    "get_price_and_nourishment_for_ingredients()\n",
    "\n",
    "#This method is to be changed to show a comparison (Price and Kcal) of the top three recipes using a pie chart."
   ]
  }
 ],
 "metadata": {
  "kernelspec": {
   "display_name": "Python 3 (ipykernel)",
   "language": "python",
   "name": "python3"
  },
  "language_info": {
   "codemirror_mode": {
    "name": "ipython",
    "version": 3
   },
   "file_extension": ".py",
   "mimetype": "text/x-python",
   "name": "python",
   "nbconvert_exporter": "python",
   "pygments_lexer": "ipython3",
   "version": "3.10.6"
  }
 },
 "nbformat": 4,
 "nbformat_minor": 5
}
