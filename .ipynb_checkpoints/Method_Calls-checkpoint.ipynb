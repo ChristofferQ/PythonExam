{
 "cells": [
  {
   "cell_type": "code",
   "execution_count": 2,
   "id": "afa2716d-7307-4412-a287-79e2a51412b3",
   "metadata": {
    "collapsed": true,
    "jupyter": {
     "outputs_hidden": true
    },
    "tags": []
   },
   "outputs": [
    {
     "name": "stdout",
     "output_type": "stream",
     "text": [
      "Grøntsager\n",
      "Kartofler\n",
      "Squash\n",
      "Avocado\n",
      "Aubergine\n",
      "Spinat\n",
      "Kål\n",
      "Rodfrugter\n",
      "Græskar\n",
      "Broccoli\n",
      "Peberfrugt\n",
      "Tomater\n",
      "Porrer\n",
      "Bønner\n",
      "Ramsløg\n",
      "Asparges\n",
      "Svampe\n",
      "Agurk\n",
      "Fennikel\n",
      "Blomkål\n",
      "Grøntsagsfrikadeller\n",
      "Grøntsager i ovn\n",
      "Grøntsager på panden\n",
      "Ost\n",
      "Rygeost\n",
      "Hytteost\n",
      "Chili\n",
      "Frugt\n",
      "Hyldeblomst\n",
      "Rabarber\n",
      "Frugttærte\n",
      "Bær\n",
      "Melon\n",
      "Frugtsalat\n",
      "Marmelade\n",
      "Pærer\n",
      "Ananas\n",
      "Bananer\n",
      "Mango\n",
      "Æbler\n",
      "Blommer\n",
      "Appelsin\n",
      "Granatæble\n",
      "Fjerkræ\n",
      "Kylling\n",
      "And\n",
      "Kalkun\n",
      "Krydderurter\n",
      "Mynte\n",
      "Basilikum\n",
      "Persille\n",
      "Quinoa\n",
      "Ingefær\n",
      "Skyr\n",
      "Fiskeopskrifter\n",
      "Laks\n",
      "Torsk\n",
      "Tun\n",
      "Hellefisk\n",
      "Skaldyr\n",
      "Makrel\n",
      "Fiskesuppe\n",
      "Rødspætter\n",
      "Fiskeopskrifter til børn\n",
      "Fiskefrikadeller\n",
      "Stenbiderrogn\n",
      "Fisk i ovn\n",
      "Forretter med fisk\n",
      "Pasta\n",
      "Spaghetti\n",
      "Pastasalat\n",
      "Pastaretter med kylling\n",
      "Pastaretter med spinat\n",
      "Pasta med bacon\n",
      "Pastaretter med laks\n",
      "One pot pasta\n",
      "Pasta i ovn\n",
      "Mad med øl\n",
      "Lakrids\n",
      "Couscous\n",
      "Nutella\n",
      "Kødretter\n",
      "Oksekød\n",
      "Svinekød\n",
      "Lam\n",
      "Mørbrad\n",
      "Vildt\n",
      "Pølser\n",
      "Kødsovs\n",
      "Koteletter\n",
      "Kalvekød\n",
      "Bøf opskrifter\n",
      "Bacon\n",
      "Kødboller\n",
      "Hakket oksekød & bacon\n",
      "Æg\n",
      "Æggekage\n",
      "Omelet\n",
      "Røræg\n",
      "Spejlæg\n",
      "Æggesalat\n",
      "Æggemuffins\n",
      "Opskrifter med Ris\n",
      "Risretter\n",
      "Risotto\n",
      "Opskrifter med nudler\n",
      "Edamamebønner\n",
      "Kikærter\n"
     ]
    }
   ],
   "source": [
    "from Modules.ingredients import get_all_ingredients\n",
    "\n",
    "get_all_ingredients()\n"
   ]
  },
  {
   "cell_type": "code",
   "execution_count": 5,
   "id": "3cfe6b46-24f4-4858-bc24-98783d5a34d8",
   "metadata": {
    "tags": []
   },
   "outputs": [
    {
     "name": "stdin",
     "output_type": "stream",
     "text": [
      "Your ingredient:  Kartofler\n"
     ]
    },
    {
     "name": "stdout",
     "output_type": "stream",
     "text": [
      "\n",
      "1 \t Brune kartofler\n",
      "2 \t Pommes Anna med ost\n",
      "3 \t Aspargeskartofler - sådan bliver de perfekte\n",
      "4 \t Kartofler med pesto\n",
      "5 \t Citronkartofler\n",
      "6 \t Fyldte søde kartofler\n",
      "7 \t Lækre ovnkartofler\n",
      "8 \t Råstegte kartofler\n",
      "9 \t Brunede kartofler med honning\n",
      "10 \t Græske kartofler\n",
      "11 \t Kartoffelsalat\n",
      "12 \t Svensk pølseret - den rigtige\n",
      "13 \t Kartoffel-porresuppe\n",
      "14 \t Kartoffelgratin\n",
      "15 \t Bearnaisekartofler\n",
      "\n"
     ]
    },
    {
     "name": "stdin",
     "output_type": "stream",
     "text": [
      "Your recipe: 1\n"
     ]
    },
    {
     "name": "stdout",
     "output_type": "stream",
     "text": [
      "\n",
      "  Meassurement  Unit Ingredient\n",
      "0            1    kg  Kartofler\n",
      "1            4  spsk     Sukker\n",
      "2           40     g       Smør\n",
      "\n",
      "Kog kartoflerne og lad dem køle helt af. Hæld koldt vand over for at få dem helt kolde og lad dem hvile i en si til vandet er dryppet grundigt af.Hæld sukkeret på en stor pande og varm det op til det hele er lysebrunt og karamelliseret. Tilsæt smørret og rør det grundigt sammen.Tilsæt kartoflerne og ryst panden, så sukkermassen fordeles jævnt. Lad det blive gennemvarmet ved lav temperatur. Ryst panden indimellem. Tilsæt evt. lidt vand, hvis du synes massen bliver for tyk.De brune kartofler er klar til servering. \n"
     ]
    }
   ],
   "source": [
    "from Modules.ingredients import search_for_recipes_by_ingredient\n",
    "\n",
    "search_for_recipes_by_ingredient()"
   ]
  },
  {
   "cell_type": "code",
   "execution_count": 6,
   "id": "60371bbe-25b0-4694-941a-3f768f9ed578",
   "metadata": {},
   "outputs": [
    {
     "name": "stdout",
     "output_type": "stream",
     "text": [
      "  Ingredient   Price  Meassurement  Unit\n",
      "0  Kartofler      20             1    kg\n",
      "1       Smør     870            40     g\n",
      "2     Sukker     900             4  spsk\n"
     ]
    },
    {
     "data": {
      "image/png": "[encoded data removed]",
      "text/plain": [
       "<Figure size 640x480 with 1 Axes>"
      ]
     },
     "metadata": {},
     "output_type": "display_data"
    }
   ],
   "source": [
    "from Modules.ingredients import get_price_of_ingredients\n",
    "\n",
    "get_price_of_ingredients()"
   ]
  }
 ],
 "metadata": {
  "kernelspec": {
   "display_name": "Python 3 (ipykernel)",
   "language": "python",
   "name": "python3"
  },
  "language_info": {
   "codemirror_mode": {
    "name": "ipython",
    "version": 3
   },
   "file_extension": ".py",
   "mimetype": "text/x-python",
   "name": "python",
   "nbconvert_exporter": "python",
   "pygments_lexer": "ipython3",
   "version": "3.10.6"
  }
 },
 "nbformat": 4,
 "nbformat_minor": 5
}
