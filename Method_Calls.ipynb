{
 "cells": [
  {
   "cell_type": "code",
   "execution_count": 2,
   "id": "afa2716d-7307-4412-a287-79e2a51412b3",
   "metadata": {
    "collapsed": true,
    "jupyter": {
     "outputs_hidden": true
    },
    "tags": []
   },
   "outputs": [
    {
     "name": "stdout",
     "output_type": "stream",
     "text": [
      "Grøntsager\n",
      "Kartofler\n",
      "Squash\n",
      "Avocado\n",
      "Aubergine\n",
      "Spinat\n",
      "Kål\n",
      "Rodfrugter\n",
      "Græskar\n",
      "Broccoli\n",
      "Peberfrugt\n",
      "Tomater\n",
      "Porrer\n",
      "Bønner\n",
      "Ramsløg\n",
      "Asparges\n",
      "Svampe\n",
      "Agurk\n",
      "Fennikel\n",
      "Blomkål\n",
      "Grøntsagsfrikadeller\n",
      "Grøntsager i ovn\n",
      "Grøntsager på panden\n",
      "Ost\n",
      "Rygeost\n",
      "Hytteost\n",
      "Chili\n",
      "Frugt\n",
      "Hyldeblomst\n",
      "Rabarber\n",
      "Frugttærte\n",
      "Bær\n",
      "Melon\n",
      "Frugtsalat\n",
      "Marmelade\n",
      "Pærer\n",
      "Ananas\n",
      "Bananer\n",
      "Mango\n",
      "Æbler\n",
      "Blommer\n",
      "Appelsin\n",
      "Granatæble\n",
      "Fjerkræ\n",
      "Kylling\n",
      "And\n",
      "Kalkun\n",
      "Krydderurter\n",
      "Mynte\n",
      "Basilikum\n",
      "Persille\n",
      "Quinoa\n",
      "Ingefær\n",
      "Skyr\n",
      "Fiskeopskrifter\n",
      "Laks\n",
      "Torsk\n",
      "Tun\n",
      "Hellefisk\n",
      "Skaldyr\n",
      "Makrel\n",
      "Fiskesuppe\n",
      "Rødspætter\n",
      "Fiskeopskrifter til børn\n",
      "Fiskefrikadeller\n",
      "Stenbiderrogn\n",
      "Fisk i ovn\n",
      "Forretter med fisk\n",
      "Pasta\n",
      "Spaghetti\n",
      "Pastasalat\n",
      "Pastaretter med kylling\n",
      "Pastaretter med spinat\n",
      "Pasta med bacon\n",
      "Pastaretter med laks\n",
      "One pot pasta\n",
      "Pasta i ovn\n",
      "Mad med øl\n",
      "Lakrids\n",
      "Couscous\n",
      "Nutella\n",
      "Kødretter\n",
      "Oksekød\n",
      "Svinekød\n",
      "Lam\n",
      "Mørbrad\n",
      "Vildt\n",
      "Pølser\n",
      "Kødsovs\n",
      "Koteletter\n",
      "Kalvekød\n",
      "Bøf opskrifter\n",
      "Bacon\n",
      "Kødboller\n",
      "Hakket oksekød & bacon\n",
      "Æg\n",
      "Æggekage\n",
      "Omelet\n",
      "Røræg\n",
      "Spejlæg\n",
      "Æggesalat\n",
      "Æggemuffins\n",
      "Opskrifter med Ris\n",
      "Risretter\n",
      "Risotto\n",
      "Opskrifter med nudler\n",
      "Edamamebønner\n",
      "Kikærter\n"
     ]
    }
   ],
   "source": [
    "from Modules.ingredients import get_all_ingredients\n",
    "\n",
    "get_all_ingredients()\n"
   ]
  },
  {
   "cell_type": "code",
   "execution_count": 5,
   "id": "3cfe6b46-24f4-4858-bc24-98783d5a34d8",
   "metadata": {
    "tags": []
   },
   "outputs": [
    {
     "name": "stdin",
     "output_type": "stream",
     "text": [
      "Your ingredient:  Kartofler\n"
     ]
    },
    {
     "name": "stdout",
     "output_type": "stream",
     "text": [
      "\n",
      "1 \t Brune kartofler\n",
      "2 \t Pommes Anna med ost\n",
      "3 \t Aspargeskartofler - sådan bliver de perfekte\n",
      "4 \t Kartofler med pesto\n",
      "5 \t Citronkartofler\n",
      "6 \t Fyldte søde kartofler\n",
      "7 \t Lækre ovnkartofler\n",
      "8 \t Råstegte kartofler\n",
      "9 \t Brunede kartofler med honning\n",
      "10 \t Græske kartofler\n",
      "11 \t Kartoffelsalat\n",
      "12 \t Svensk pølseret - den rigtige\n",
      "13 \t Kartoffel-porresuppe\n",
      "14 \t Kartoffelgratin\n",
      "15 \t Bearnaisekartofler\n",
      "\n"
     ]
    },
    {
     "name": "stdin",
     "output_type": "stream",
     "text": [
      "Your recipe: 6\n"
     ]
    },
    {
     "name": "stdout",
     "output_type": "stream",
     "text": [
      "\n",
      "  Meassurement  Unit        Ingredient\n",
      "0            4  None    Søde kartofler\n",
      "1            1  None            Rødløg\n",
      "2            1   bdt            Purløg\n",
      "3          100     g  Revet cheddarost\n",
      "4          200     g     Creme fraiche\n",
      "5            2  None         Avocadoer\n",
      "6            1  None         Limefrugt\n",
      "7         None  None              Salt\n",
      "8         None  None             Peber\n",
      "\n",
      "Prik huller i de søde kartofler med en gaffel. Læg dem på en bageplade med bagepapir og bag dem i ovnen i ved 210 grader i ca. 1 time (afhængig af ovn og kartoflernes størrelse - i min ovn tog det lidt længere tid). I mellemtiden gøres fyldet klar.Pil rødløget og hak det fint. Skyl purløget og lad det dryppe af - dup dem evt. tørt med lidt køkkenrulle - og hak eller klip det fint.Umiddelbart inden kartoflerne er færdige i ovnen, gøres avocadoerne klar. Skær dem over på langs og fjern stenen. Tag det grønne frugtkød ud med en spiseske og skær det i grove tern. Pres limesaften over.Tag de bagte søde kartofler ud af ovnen, og skær en lomme i dem. Brug evt. et par teskeer til at gøre plads til fyldet i \"lommen\".Krydr kartoflerne med salt og peber. Fyld skiftevis lidt revet ost, avocado, creme fraiche, rødløg og purløg i.Servér mens de er varme. \n"
     ]
    }
   ],
   "source": [
    "from Modules.ingredients import search_for_recipes_by_ingredient\n",
    "\n",
    "search_for_recipes_by_ingredient()"
   ]
  },
  {
   "cell_type": "code",
   "execution_count": 6,
   "id": "60371bbe-25b0-4694-941a-3f768f9ed578",
   "metadata": {},
   "outputs": [
    {
     "name": "stdout",
     "output_type": "stream",
     "text": [
      "         Ingredient  Price  Meassurement Unit\n",
      "0              Salt     10           NaN  NaN\n",
      "1             Peber     91           NaN  NaN\n",
      "2            Purløg     80           1.0  bdt\n",
      "3    Søde kartofler     95           4.0  NaN\n",
      "4            Rødløg     28           1.0  NaN\n",
      "5  Revet cheddarost    104         100.0    g\n",
      "6     Creme fraiche    109         200.0    g\n",
      "7         Limefrugt      7           1.0  NaN\n",
      "8         Avocadoer     94           2.0  NaN\n"
     ]
    },
    {
     "data": {
      "image/png": "[encoded data removed]",
      "text/plain": [
       "<Figure size 1000x500 with 1 Axes>"
      ]
     },
     "metadata": {},
     "output_type": "display_data"
    }
   ],
   "source": [
    "from Modules.ingredients import get_price_of_ingredients\n",
    "\n",
    "get_price_of_ingredients(\"recipe_ingredients\")"
   ]
  },
  {
   "cell_type": "code",
   "execution_count": 8,
   "id": "1cbedeea-6b55-44a0-a700-015e61dd242f",
   "metadata": {},
   "outputs": [
    {
     "name": "stdout",
     "output_type": "stream",
     "text": [
      "  Ingredient  Kcal  Meassurement Unit\n",
      "0       Salt     5           NaN  NaN\n",
      "1      Peber    25           NaN  NaN\n",
      "2     Purløg    41           1.0  bdt\n"
     ]
    },
    {
     "data": {
      "image/png": "[encoded data removed]",
      "text/plain": [
       "<Figure size 1000x500 with 1 Axes>"
      ]
     },
     "metadata": {},
     "output_type": "display_data"
    }
   ],
   "source": [
    "from Modules.ingredients import get_nourishment_for_ingredients\n",
    "\n",
    "get_nourishment_for_ingredients(\"recipe_ingredients\")"
   ]
  },
  {
   "cell_type": "code",
   "execution_count": 4,
   "id": "f1fb571b-a81f-4fec-bccd-b7f597ea4335",
   "metadata": {},
   "outputs": [
    {
     "name": "stdout",
     "output_type": "stream",
     "text": [
      "   Meassurement    Unit Ingredient   Price   Kcal\n",
      "0           2.0  skiver    Tomater     120   20.0\n",
      "1           3.0  skiver      Bacon     740   10.0\n",
      "2           2.0     NaN         Æg     760   15.0\n",
      "3           NaN     NaN       Salt     890   17.0\n",
      "4           NaN     NaN      Peber     970   25.0\n"
     ]
    }
   ],
   "source": [
    "from Modules.ingredients import get_price_and_nourishment_for_ingredients\n",
    "\n",
    "get_price_and_nourishment_for_ingredients()"
   ]
  }
 ],
 "metadata": {
  "kernelspec": {
   "display_name": "Python 3 (ipykernel)",
   "language": "python",
   "name": "python3"
  },
  "language_info": {
   "codemirror_mode": {
    "name": "ipython",
    "version": 3
   },
   "file_extension": ".py",
   "mimetype": "text/x-python",
   "name": "python",
   "nbconvert_exporter": "python",
   "pygments_lexer": "ipython3",
   "version": "3.10.6"
  }
 },
 "nbformat": 4,
 "nbformat_minor": 5
}
