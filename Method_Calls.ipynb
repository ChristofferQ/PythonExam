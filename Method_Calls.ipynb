{
 "cells": [
  {
   "cell_type": "code",
   "execution_count": 2,
   "id": "afa2716d-7307-4412-a287-79e2a51412b3",
   "metadata": {
    "collapsed": true,
    "jupyter": {
     "outputs_hidden": true
    },
    "tags": []
   },
   "outputs": [
    {
     "name": "stdout",
     "output_type": "stream",
     "text": [
      "Grøntsager\n",
      "Kartofler\n",
      "Squash\n",
      "Avocado\n",
      "Aubergine\n",
      "Spinat\n",
      "Kål\n",
      "Rodfrugter\n",
      "Græskar\n",
      "Broccoli\n",
      "Peberfrugt\n",
      "Tomater\n",
      "Porrer\n",
      "Bønner\n",
      "Ramsløg\n",
      "Asparges\n",
      "Svampe\n",
      "Agurk\n",
      "Fennikel\n",
      "Blomkål\n",
      "Grøntsagsfrikadeller\n",
      "Grøntsager i ovn\n",
      "Grøntsager på panden\n",
      "Ost\n",
      "Rygeost\n",
      "Hytteost\n",
      "Chili\n",
      "Frugt\n",
      "Hyldeblomst\n",
      "Rabarber\n",
      "Frugttærte\n",
      "Bær\n",
      "Melon\n",
      "Frugtsalat\n",
      "Marmelade\n",
      "Pærer\n",
      "Ananas\n",
      "Bananer\n",
      "Mango\n",
      "Æbler\n",
      "Blommer\n",
      "Appelsin\n",
      "Granatæble\n",
      "Fjerkræ\n",
      "Kylling\n",
      "And\n",
      "Kalkun\n",
      "Krydderurter\n",
      "Mynte\n",
      "Basilikum\n",
      "Persille\n",
      "Quinoa\n",
      "Ingefær\n",
      "Skyr\n",
      "Fiskeopskrifter\n",
      "Laks\n",
      "Torsk\n",
      "Tun\n",
      "Hellefisk\n",
      "Skaldyr\n",
      "Makrel\n",
      "Fiskesuppe\n",
      "Rødspætter\n",
      "Fiskeopskrifter til børn\n",
      "Fiskefrikadeller\n",
      "Stenbiderrogn\n",
      "Fisk i ovn\n",
      "Forretter med fisk\n",
      "Pasta\n",
      "Spaghetti\n",
      "Pastasalat\n",
      "Pastaretter med kylling\n",
      "Pastaretter med spinat\n",
      "Pasta med bacon\n",
      "Pastaretter med laks\n",
      "One pot pasta\n",
      "Pasta i ovn\n",
      "Mad med øl\n",
      "Lakrids\n",
      "Couscous\n",
      "Nutella\n",
      "Kødretter\n",
      "Oksekød\n",
      "Svinekød\n",
      "Lam\n",
      "Mørbrad\n",
      "Vildt\n",
      "Pølser\n",
      "Kødsovs\n",
      "Koteletter\n",
      "Kalvekød\n",
      "Bøf opskrifter\n",
      "Bacon\n",
      "Kødboller\n",
      "Hakket oksekød & bacon\n",
      "Æg\n",
      "Æggekage\n",
      "Omelet\n",
      "Røræg\n",
      "Spejlæg\n",
      "Æggesalat\n",
      "Æggemuffins\n",
      "Opskrifter med Ris\n",
      "Risretter\n",
      "Risotto\n",
      "Opskrifter med nudler\n",
      "Edamamebønner\n",
      "Kikærter\n"
     ]
    }
   ],
   "source": [
    "from Modules.ingredients import get_all_ingredients\n",
    "\n",
    "get_all_ingredients()\n"
   ]
  },
  {
   "cell_type": "code",
   "execution_count": 1,
   "id": "3cfe6b46-24f4-4858-bc24-98783d5a34d8",
   "metadata": {
    "tags": []
   },
   "outputs": [
    {
     "name": "stdin",
     "output_type": "stream",
     "text": [
      "Your ingredient:  Æg\n"
     ]
    },
    {
     "name": "stdout",
     "output_type": "stream",
     "text": [
      "\n",
      "1 \t Æg i muffinsforme\n",
      "2 \t Æg med fyld og bacon\n",
      "3 \t Nem italiensk ret med æg i tomatsauce\n",
      "4 \t Æggemuffins med blomkål\n",
      "5 \t Marmorerede æg\n",
      "6 \t Pocheret æg med laks\n",
      "7 \t Æggesalat med flødeost\n",
      "8 \t Brunch æg i ovn\n",
      "9 \t Blomkålsgratin med bacon og kartofler\n",
      "10 \t Fedtfattig æggesalat med skyr\n",
      "11 \t Hjemmelavet æggesalat\n",
      "12 \t Kartoffelmos med æg\n",
      "13 \t LCHF æggewraps med oksekød og grøntsager\n",
      "14 \t Maskeret blomkål med rejer\n",
      "15 \t Maskeret blomkål med skinke og bacon\n",
      "\n"
     ]
    },
    {
     "name": "stdin",
     "output_type": "stream",
     "text": [
      "Your recipe: 8\n"
     ]
    },
    {
     "name": "stdout",
     "output_type": "stream",
     "text": [
      "\n",
      "  Meassurement    Unit Ingredient\n",
      "0            2  skiver    Tomater\n",
      "1            3  skiver      Bacon\n",
      "2            2    None         Æg\n",
      "3         None    None       Salt\n",
      "4         None    None      Peber\n",
      "5         None    None    Rugbrød\n",
      "\n",
      "Læg en skive tomat i hver skål – skålen skal kunne tåle at komme i ovnen. Placér halvanden skive bacon langs kanten, så hele kanten er dækket. Slå et æg ud i hver skål, og drys med salt og peber.Bag dine brunch-æg i ovnen ved 200 grader i ca. 13-15 minutter, til æggene ikke er flydende mere. Servér dine brunch æg med ristet rugbrød. \n"
     ]
    }
   ],
   "source": [
    "from Modules.ingredients import search_for_recipes_by_ingredient\n",
    "\n",
    "search_for_recipes_by_ingredient()"
   ]
  },
  {
   "cell_type": "code",
   "execution_count": 2,
   "id": "60371bbe-25b0-4694-941a-3f768f9ed578",
   "metadata": {},
   "outputs": [
    {
     "name": "stdout",
     "output_type": "stream",
     "text": [
      "  Ingredient   Price  Meassurement    Unit\n",
      "0    Tomater     120           2.0  skiver\n",
      "1      Bacon     740           3.0  skiver\n",
      "2         Æg     760           2.0     NaN\n",
      "3       Salt     890           NaN     NaN\n",
      "4      Peber     970           NaN     NaN\n"
     ]
    },
    {
     "data": {
      "image/png": "[encoded data removed]",
      "text/plain": [
       "<Figure size 1000x500 with 1 Axes>"
      ]
     },
     "metadata": {},
     "output_type": "display_data"
    }
   ],
   "source": [
    "from Modules.ingredients import get_price_of_ingredients\n",
    "\n",
    "get_price_of_ingredients()"
   ]
  },
  {
   "cell_type": "code",
   "execution_count": 1,
   "id": "1cbedeea-6b55-44a0-a700-015e61dd242f",
   "metadata": {},
   "outputs": [
    {
     "name": "stdout",
     "output_type": "stream",
     "text": [
      "   Meassurement    Unit Ingredient   Kcal\n",
      "0           2.0  skiver    Tomater   20.0\n",
      "1           3.0  skiver      Bacon   10.0\n",
      "2           2.0     NaN         Æg   15.0\n",
      "3           NaN     NaN       Salt   17.0\n",
      "4           NaN     NaN      Peber   25.0\n"
     ]
    },
    {
     "ename": "KeyError",
     "evalue": "'Kcal'",
     "output_type": "error",
     "traceback": [
      "\u001b[0;31m---------------------------------------------------------------------------\u001b[0m",
      "\u001b[0;31mKeyError\u001b[0m                                  Traceback (most recent call last)",
      "File \u001b[0;32m/opt/conda/lib/python3.10/site-packages/pandas/core/indexes/base.py:3621\u001b[0m, in \u001b[0;36mIndex.get_loc\u001b[0;34m(self, key, method, tolerance)\u001b[0m\n\u001b[1;32m   3620\u001b[0m \u001b[38;5;28;01mtry\u001b[39;00m:\n\u001b[0;32m-> 3621\u001b[0m     \u001b[38;5;28;01mreturn\u001b[39;00m \u001b[38;5;28;43mself\u001b[39;49m\u001b[38;5;241;43m.\u001b[39;49m\u001b[43m_engine\u001b[49m\u001b[38;5;241;43m.\u001b[39;49m\u001b[43mget_loc\u001b[49m\u001b[43m(\u001b[49m\u001b[43mcasted_key\u001b[49m\u001b[43m)\u001b[49m\n\u001b[1;32m   3622\u001b[0m \u001b[38;5;28;01mexcept\u001b[39;00m \u001b[38;5;167;01mKeyError\u001b[39;00m \u001b[38;5;28;01mas\u001b[39;00m err:\n",
      "File \u001b[0;32m/opt/conda/lib/python3.10/site-packages/pandas/_libs/index.pyx:136\u001b[0m, in \u001b[0;36mpandas._libs.index.IndexEngine.get_loc\u001b[0;34m()\u001b[0m\n",
      "File \u001b[0;32m/opt/conda/lib/python3.10/site-packages/pandas/_libs/index.pyx:163\u001b[0m, in \u001b[0;36mpandas._libs.index.IndexEngine.get_loc\u001b[0;34m()\u001b[0m\n",
      "File \u001b[0;32mpandas/_libs/hashtable_class_helper.pxi:5198\u001b[0m, in \u001b[0;36mpandas._libs.hashtable.PyObjectHashTable.get_item\u001b[0;34m()\u001b[0m\n",
      "File \u001b[0;32mpandas/_libs/hashtable_class_helper.pxi:5206\u001b[0m, in \u001b[0;36mpandas._libs.hashtable.PyObjectHashTable.get_item\u001b[0;34m()\u001b[0m\n",
      "\u001b[0;31mKeyError\u001b[0m: 'Kcal'",
      "\nThe above exception was the direct cause of the following exception:\n",
      "\u001b[0;31mKeyError\u001b[0m                                  Traceback (most recent call last)",
      "Input \u001b[0;32mIn [1]\u001b[0m, in \u001b[0;36m<cell line: 3>\u001b[0;34m()\u001b[0m\n\u001b[1;32m      1\u001b[0m \u001b[38;5;28;01mfrom\u001b[39;00m \u001b[38;5;21;01mModules\u001b[39;00m\u001b[38;5;21;01m.\u001b[39;00m\u001b[38;5;21;01mingredients\u001b[39;00m \u001b[38;5;28;01mimport\u001b[39;00m get_nourishment_for_ingredients\n\u001b[0;32m----> 3\u001b[0m \u001b[43mget_nourishment_for_ingredients\u001b[49m\u001b[43m(\u001b[49m\u001b[43m)\u001b[49m\n",
      "File \u001b[0;32m~/my_notebooks/Exam/PythonExam/Modules/ingredients.py:208\u001b[0m, in \u001b[0;36mget_nourishment_for_ingredients\u001b[0;34m()\u001b[0m\n\u001b[1;32m    204\u001b[0m result \u001b[38;5;241m=\u001b[39m pd\u001b[38;5;241m.\u001b[39mmerge(df1,df2)\n\u001b[1;32m    206\u001b[0m \u001b[38;5;28mprint\u001b[39m(result)\n\u001b[0;32m--> 208\u001b[0m \u001b[43mshow_nourishment_of_ingredients\u001b[49m\u001b[43m(\u001b[49m\u001b[43mresult\u001b[49m\u001b[43m)\u001b[49m\n",
      "File \u001b[0;32m~/my_notebooks/Exam/PythonExam/Modules/ingredients.py:217\u001b[0m, in \u001b[0;36mshow_nourishment_of_ingredients\u001b[0;34m(data)\u001b[0m\n\u001b[1;32m    214\u001b[0m \u001b[38;5;28;01mimport\u001b[39;00m \u001b[38;5;21;01mpandas\u001b[39;00m \u001b[38;5;28;01mas\u001b[39;00m \u001b[38;5;21;01mpd\u001b[39;00m \n\u001b[1;32m    215\u001b[0m \u001b[38;5;28;01mimport\u001b[39;00m \u001b[38;5;21;01mmatplotlib\u001b[39;00m\u001b[38;5;21;01m.\u001b[39;00m\u001b[38;5;21;01mpyplot\u001b[39;00m \u001b[38;5;28;01mas\u001b[39;00m \u001b[38;5;21;01mplt\u001b[39;00m\n\u001b[0;32m--> 217\u001b[0m result \u001b[38;5;241m=\u001b[39m \u001b[43mdata\u001b[49m\u001b[43m[\u001b[49m\u001b[38;5;124;43m'\u001b[39;49m\u001b[38;5;124;43mKcal\u001b[39;49m\u001b[38;5;124;43m'\u001b[39;49m\u001b[43m]\u001b[49m\n\u001b[1;32m    219\u001b[0m Ingredient \u001b[38;5;241m=\u001b[39m result[\u001b[38;5;124m'\u001b[39m\u001b[38;5;124mIngredient\u001b[39m\u001b[38;5;124m'\u001b[39m]\n\u001b[1;32m    220\u001b[0m Kcal \u001b[38;5;241m=\u001b[39m result\u001b[38;5;241m.\u001b[39miloc[:,\u001b[38;5;241m1\u001b[39m]\n",
      "File \u001b[0;32m/opt/conda/lib/python3.10/site-packages/pandas/core/frame.py:3505\u001b[0m, in \u001b[0;36mDataFrame.__getitem__\u001b[0;34m(self, key)\u001b[0m\n\u001b[1;32m   3503\u001b[0m \u001b[38;5;28;01mif\u001b[39;00m \u001b[38;5;28mself\u001b[39m\u001b[38;5;241m.\u001b[39mcolumns\u001b[38;5;241m.\u001b[39mnlevels \u001b[38;5;241m>\u001b[39m \u001b[38;5;241m1\u001b[39m:\n\u001b[1;32m   3504\u001b[0m     \u001b[38;5;28;01mreturn\u001b[39;00m \u001b[38;5;28mself\u001b[39m\u001b[38;5;241m.\u001b[39m_getitem_multilevel(key)\n\u001b[0;32m-> 3505\u001b[0m indexer \u001b[38;5;241m=\u001b[39m \u001b[38;5;28;43mself\u001b[39;49m\u001b[38;5;241;43m.\u001b[39;49m\u001b[43mcolumns\u001b[49m\u001b[38;5;241;43m.\u001b[39;49m\u001b[43mget_loc\u001b[49m\u001b[43m(\u001b[49m\u001b[43mkey\u001b[49m\u001b[43m)\u001b[49m\n\u001b[1;32m   3506\u001b[0m \u001b[38;5;28;01mif\u001b[39;00m is_integer(indexer):\n\u001b[1;32m   3507\u001b[0m     indexer \u001b[38;5;241m=\u001b[39m [indexer]\n",
      "File \u001b[0;32m/opt/conda/lib/python3.10/site-packages/pandas/core/indexes/base.py:3623\u001b[0m, in \u001b[0;36mIndex.get_loc\u001b[0;34m(self, key, method, tolerance)\u001b[0m\n\u001b[1;32m   3621\u001b[0m     \u001b[38;5;28;01mreturn\u001b[39;00m \u001b[38;5;28mself\u001b[39m\u001b[38;5;241m.\u001b[39m_engine\u001b[38;5;241m.\u001b[39mget_loc(casted_key)\n\u001b[1;32m   3622\u001b[0m \u001b[38;5;28;01mexcept\u001b[39;00m \u001b[38;5;167;01mKeyError\u001b[39;00m \u001b[38;5;28;01mas\u001b[39;00m err:\n\u001b[0;32m-> 3623\u001b[0m     \u001b[38;5;28;01mraise\u001b[39;00m \u001b[38;5;167;01mKeyError\u001b[39;00m(key) \u001b[38;5;28;01mfrom\u001b[39;00m \u001b[38;5;21;01merr\u001b[39;00m\n\u001b[1;32m   3624\u001b[0m \u001b[38;5;28;01mexcept\u001b[39;00m \u001b[38;5;167;01mTypeError\u001b[39;00m:\n\u001b[1;32m   3625\u001b[0m     \u001b[38;5;66;03m# If we have a listlike key, _check_indexing_error will raise\u001b[39;00m\n\u001b[1;32m   3626\u001b[0m     \u001b[38;5;66;03m#  InvalidIndexError. Otherwise we fall through and re-raise\u001b[39;00m\n\u001b[1;32m   3627\u001b[0m     \u001b[38;5;66;03m#  the TypeError.\u001b[39;00m\n\u001b[1;32m   3628\u001b[0m     \u001b[38;5;28mself\u001b[39m\u001b[38;5;241m.\u001b[39m_check_indexing_error(key)\n",
      "\u001b[0;31mKeyError\u001b[0m: 'Kcal'"
     ]
    }
   ],
   "source": [
    "from Modules.ingredients import get_nourishment_for_ingredients\n",
    "\n",
    "get_nourishment_for_ingredients()"
   ]
  },
  {
   "cell_type": "code",
   "execution_count": 1,
   "id": "f1fb571b-a81f-4fec-bccd-b7f597ea4335",
   "metadata": {},
   "outputs": [
    {
     "name": "stdout",
     "output_type": "stream",
     "text": [
      "   Meassurement    Unit Ingredient   Price   Kcal\n",
      "0           2.0  skiver    Tomater     120    NaN\n",
      "1           3.0  skiver      Bacon     740    NaN\n",
      "2           2.0     NaN         Æg     760    NaN\n",
      "3           NaN     NaN       Salt     890    NaN\n",
      "4           NaN     NaN      Peber     970    NaN\n"
     ]
    }
   ],
   "source": [
    "from Modules.ingredients import get_price_and_nourishment_for_ingredients\n",
    "\n",
    "get_price_and_nourishment_for_ingredients()"
   ]
  }
 ],
 "metadata": {
  "kernelspec": {
   "display_name": "Python 3 (ipykernel)",
   "language": "python",
   "name": "python3"
  },
  "language_info": {
   "codemirror_mode": {
    "name": "ipython",
    "version": 3
   },
   "file_extension": ".py",
   "mimetype": "text/x-python",
   "name": "python",
   "nbconvert_exporter": "python",
   "pygments_lexer": "ipython3",
   "version": "3.10.6"
  }
 },
 "nbformat": 4,
 "nbformat_minor": 5
}
