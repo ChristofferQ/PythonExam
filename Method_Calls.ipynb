{
 "cells": [
  {
   "cell_type": "code",
   "execution_count": 5,
   "id": "afa2716d-7307-4412-a287-79e2a51412b3",
   "metadata": {
    "collapsed": true,
    "jupyter": {
     "outputs_hidden": true
    },
    "tags": []
   },
   "outputs": [
    {
     "name": "stdout",
     "output_type": "stream",
     "text": [
      "Grøntsager\n",
      "Kartofler\n",
      "Squash\n",
      "Avocado\n",
      "Aubergine\n",
      "Spinat\n",
      "Kål\n",
      "Rodfrugter\n",
      "Græskar\n",
      "Broccoli\n",
      "Peberfrugt\n",
      "Tomater\n",
      "Porrer\n",
      "Bønner\n",
      "Ramsløg\n",
      "Asparges\n",
      "Svampe\n",
      "Agurk\n",
      "Fennikel\n",
      "Blomkål\n",
      "Grøntsagsfrikadeller\n",
      "Grøntsager i ovn\n",
      "Grøntsager på panden\n",
      "Ost\n",
      "Rygeost\n",
      "Hytteost\n",
      "Chili\n",
      "Frugt\n",
      "Hyldeblomst\n",
      "Rabarber\n",
      "Frugttærte\n",
      "Bær\n",
      "Melon\n",
      "Frugtsalat\n",
      "Marmelade\n",
      "Pærer\n",
      "Ananas\n",
      "Bananer\n",
      "Mango\n",
      "Æbler\n",
      "Blommer\n",
      "Appelsin\n",
      "Granatæble\n",
      "Fjerkræ\n",
      "Kylling\n",
      "And\n",
      "Kalkun\n",
      "Krydderurter\n",
      "Mynte\n",
      "Basilikum\n",
      "Persille\n",
      "Quinoa\n",
      "Ingefær\n",
      "Skyr\n",
      "Fiskeopskrifter\n",
      "Laks\n",
      "Torsk\n",
      "Tun\n",
      "Hellefisk\n",
      "Skaldyr\n",
      "Makrel\n",
      "Fiskesuppe\n",
      "Rødspætter\n",
      "Fiskeopskrifter til børn\n",
      "Fiskefrikadeller\n",
      "Stenbiderrogn\n",
      "Fisk i ovn\n",
      "Forretter med fisk\n",
      "Pasta\n",
      "Spaghetti\n",
      "Pastasalat\n",
      "Pastaretter med kylling\n",
      "Pastaretter med spinat\n",
      "Pasta med bacon\n",
      "Pastaretter med laks\n",
      "One pot pasta\n",
      "Pasta i ovn\n",
      "Mad med øl\n",
      "Lakrids\n",
      "Couscous\n",
      "Nutella\n",
      "Kødretter\n",
      "Oksekød\n",
      "Svinekød\n",
      "Lam\n",
      "Mørbrad\n",
      "Vildt\n",
      "Pølser\n",
      "Kødsovs\n",
      "Koteletter\n",
      "Kalvekød\n",
      "Bøf opskrifter\n",
      "Bacon\n",
      "Kødboller\n",
      "Hakket oksekød & bacon\n",
      "Æg\n",
      "Æggekage\n",
      "Omelet\n",
      "Røræg\n",
      "Spejlæg\n",
      "Æggesalat\n",
      "Æggemuffins\n",
      "Opskrifter med Ris\n",
      "Risretter\n",
      "Risotto\n",
      "Opskrifter med nudler\n",
      "Edamamebønner\n",
      "Kikærter\n"
     ]
    }
   ],
   "source": [
    "from Modules.ingredients import get_all_ingredients\n",
    "\n",
    "get_all_ingredients()\n"
   ]
  },
  {
   "cell_type": "code",
   "execution_count": 6,
   "id": "3cfe6b46-24f4-4858-bc24-98783d5a34d8",
   "metadata": {
    "tags": []
   },
   "outputs": [
    {
     "name": "stdin",
     "output_type": "stream",
     "text": [
      "Input your ingredient Persille\n"
     ]
    },
    {
     "name": "stdout",
     "output_type": "stream",
     "text": [
      "Græsk farsbrød med ris\n",
      "Mørbradbøffer\n",
      "Persillesovs\n",
      "Stegt flæsk i ovn på bagepapir\n",
      "Avocadosalsa\n",
      "Falafel\n",
      "Kalve Osso Buco\n",
      "Svensk pølseret med karry\n",
      "Bagt havkat med topping og rygeostcreme\n",
      "Bøf Lindstrøm\n",
      "Kyllingesuppe - Opskrift på kyllingesuppe\n",
      "Minestronesuppe\n",
      "Rød pesto\n",
      "Jomfruhummerhaler\n",
      "Koteletter i fad\n"
     ]
    }
   ],
   "source": [
    "from Modules.ingredients import search_for_recipes_by_ingredient\n",
    "\n",
    "search_for_recipes_by_ingredient()"
   ]
  }
 ],
 "metadata": {
  "kernelspec": {
   "display_name": "Python 3 (ipykernel)",
   "language": "python",
   "name": "python3"
  },
  "language_info": {
   "codemirror_mode": {
    "name": "ipython",
    "version": 3
   },
   "file_extension": ".py",
   "mimetype": "text/x-python",
   "name": "python",
   "nbconvert_exporter": "python",
   "pygments_lexer": "ipython3",
   "version": "3.10.6"
  }
 },
 "nbformat": 4,
 "nbformat_minor": 5
}
