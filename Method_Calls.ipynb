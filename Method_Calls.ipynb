{
 "cells": [
  {
   "cell_type": "code",
   "execution_count": 5,
   "id": "afa2716d-7307-4412-a287-79e2a51412b3",
   "metadata": {
    "collapsed": true,
    "jupyter": {
     "outputs_hidden": true
    },
    "tags": []
   },
   "outputs": [
    {
     "name": "stdout",
     "output_type": "stream",
     "text": [
      "Grøntsager\n",
      "Kartofler\n",
      "Squash\n",
      "Avocado\n",
      "Aubergine\n",
      "Spinat\n",
      "Kål\n",
      "Rodfrugter\n",
      "Græskar\n",
      "Broccoli\n",
      "Peberfrugt\n",
      "Tomater\n",
      "Porrer\n",
      "Bønner\n",
      "Ramsløg\n",
      "Asparges\n",
      "Svampe\n",
      "Agurk\n",
      "Fennikel\n",
      "Blomkål\n",
      "Grøntsagsfrikadeller\n",
      "Grøntsager i ovn\n",
      "Grøntsager på panden\n",
      "Ost\n",
      "Rygeost\n",
      "Hytteost\n",
      "Chili\n",
      "Frugt\n",
      "Hyldeblomst\n",
      "Rabarber\n",
      "Frugttærte\n",
      "Bær\n",
      "Melon\n",
      "Frugtsalat\n",
      "Marmelade\n",
      "Pærer\n",
      "Ananas\n",
      "Bananer\n",
      "Mango\n",
      "Æbler\n",
      "Blommer\n",
      "Appelsin\n",
      "Granatæble\n",
      "Fjerkræ\n",
      "Kylling\n",
      "And\n",
      "Kalkun\n",
      "Krydderurter\n",
      "Mynte\n",
      "Basilikum\n",
      "Persille\n",
      "Quinoa\n",
      "Ingefær\n",
      "Skyr\n",
      "Fiskeopskrifter\n",
      "Laks\n",
      "Torsk\n",
      "Tun\n",
      "Hellefisk\n",
      "Skaldyr\n",
      "Makrel\n",
      "Fiskesuppe\n",
      "Rødspætter\n",
      "Fiskeopskrifter til børn\n",
      "Fiskefrikadeller\n",
      "Stenbiderrogn\n",
      "Fisk i ovn\n",
      "Forretter med fisk\n",
      "Pasta\n",
      "Spaghetti\n",
      "Pastasalat\n",
      "Pastaretter med kylling\n",
      "Pastaretter med spinat\n",
      "Pasta med bacon\n",
      "Pastaretter med laks\n",
      "One pot pasta\n",
      "Pasta i ovn\n",
      "Mad med øl\n",
      "Lakrids\n",
      "Couscous\n",
      "Nutella\n",
      "Kødretter\n",
      "Oksekød\n",
      "Svinekød\n",
      "Lam\n",
      "Mørbrad\n",
      "Vildt\n",
      "Pølser\n",
      "Kødsovs\n",
      "Koteletter\n",
      "Kalvekød\n",
      "Bøf opskrifter\n",
      "Bacon\n",
      "Kødboller\n",
      "Hakket oksekød & bacon\n",
      "Æg\n",
      "Æggekage\n",
      "Omelet\n",
      "Røræg\n",
      "Spejlæg\n",
      "Æggesalat\n",
      "Æggemuffins\n",
      "Opskrifter med Ris\n",
      "Risretter\n",
      "Risotto\n",
      "Opskrifter med nudler\n",
      "Edamamebønner\n",
      "Kikærter\n"
     ]
    }
   ],
   "source": [
    "from Modules.ingredients import get_all_ingredients\n",
    "\n",
    "get_all_ingredients()\n"
   ]
  },
  {
   "cell_type": "code",
   "execution_count": 2,
   "id": "3cfe6b46-24f4-4858-bc24-98783d5a34d8",
   "metadata": {
    "tags": []
   },
   "outputs": [
    {
     "name": "stdin",
     "output_type": "stream",
     "text": [
      "Your ingredient:  Ost\n"
     ]
    },
    {
     "name": "stdout",
     "output_type": "stream",
     "text": [
      "1 \t Ostetallerken\n",
      "2 \t Ostesoufflé\n",
      "3 \t Chili-dip med ost\n",
      "4 \t Rygeostsalat med radiser\n",
      "5 \t Hjemmelavede chili cheese tops med bacon\n",
      "6 \t Osteboller\n",
      "7 \t Ostesandwich\n",
      "8 \t Bagt blomkål med parmesan\n",
      "9 \t Cordon bleu – virkelig lækker opskrift\n",
      "10 \t Grønne keto vafler med spinat og ost [chaffler]\n",
      "11 \t Kylling i ovn med bacon\n",
      "12 \t Kylling med bacon, broccoli og ostesovs i fad\n",
      "13 \t Kylling med spinat og ost\n",
      "14 \t Lækre kartofler i ovn med bacon og ost\n",
      "15 \t Omelet med skinke og ost\n",
      "\n"
     ]
    },
    {
     "name": "stdin",
     "output_type": "stream",
     "text": [
      "Your recipe 15\n"
     ]
    },
    {
     "name": "stdout",
     "output_type": "stream",
     "text": [
      "\n",
      "  Meassurement  Unit Ingredient\n",
      "0            1     g      porre\n",
      "1           20  spsk       smør\n",
      "2            2     g       vand\n",
      "3            4     g         æg\n",
      "\n",
      "Snit porre, og sautér skiverne ved middelvarme i halvdelen af smørret på den pande, som skal bruges til omeletten. Kom dem op i en skål, så snart de begynder at tage farve. Hæld vandet over, så de køler lidt ned. Porre kan udelades, hvis man ikke kan lide det, og man kan også udskifte porre med løg.Knæk æggene ud i skålen med porre og vand, og krydr med salt og peber. Bland det hele grundigt.Kom den anden halvdel af smørret på panden, og sørg for, at hele panden er dækket af et tyndt lag smeltet smør. Panden skal stå på middelvarme.Hæld æggeblandingen ud på panden, og sørg for, at massen er jævnt fordelt. Drys den revne ost ud over æggemassen, og læg skinkeskiverne ovenpå. Lad omeletten simre i ca. 3-4 minutter, og vend så den ene halvdel af omeletten over på den anden.Server omeletten varm – gerne med en frisk salat til, hvis den skal bruges som frokostret. Den kan også serveres til morgenmad eller brunch. Tip: Opskriften er med i en lækker madplanOmeletten er med i denne mega lækre LCHF madplan med både opskrifter og samlet indkøbsliste. \n"
     ]
    }
   ],
   "source": [
    "from Modules.ingredients import search_for_recipes_by_ingredient\n",
    "\n",
    "search_for_recipes_by_ingredient()"
   ]
  },
  {
   "cell_type": "code",
   "execution_count": null,
   "id": "cd5eca03-14dc-45a3-8b58-06014bffd08a",
   "metadata": {},
   "outputs": [],
   "source": []
  }
 ],
 "metadata": {
  "kernelspec": {
   "display_name": "Python 3 (ipykernel)",
   "language": "python",
   "name": "python3"
  },
  "language_info": {
   "codemirror_mode": {
    "name": "ipython",
    "version": 3
   },
   "file_extension": ".py",
   "mimetype": "text/x-python",
   "name": "python",
   "nbconvert_exporter": "python",
   "pygments_lexer": "ipython3",
   "version": "3.10.6"
  }
 },
 "nbformat": 4,
 "nbformat_minor": 5
}
