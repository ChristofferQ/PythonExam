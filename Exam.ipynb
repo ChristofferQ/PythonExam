{
 "cells": [
  {
   "cell_type": "markdown",
   "id": "31718cd1-ae6c-4ff7-a8ed-10c37255425c",
   "metadata": {},
   "source": [
    "Vi vil lave et program, der tager imod en eller flere ingredienser og finder tre forslag på retter, der indeholder dem.\n",
    "\n",
    "Det skal samtidig vise prisen og næringsindholdet for de enkelte ingredienser og lave en grafisk visning af de tre retter, der viser den samlede pris og det samlede næringsindhold for de tre forslag. Vi kan overveje at tilføje yderligere som f.eks. tilberedningstid og rettens nationalitet eller om noget er vegetarisk. Vi kan også tilføje hvor stor en del af ens daglige anbefalede kost retten udgør."
   ]
  },
  {
   "cell_type": "code",
   "execution_count": 12,
   "id": "ea446c03-e7c2-4a4c-b7a6-8fa1d31a69ed",
   "metadata": {},
   "outputs": [
    {
     "name": "stdout",
     "output_type": "stream",
     "text": [
      "<!DOCTYPE html>\n",
      "<html lang=\"da\">\n",
      " <head>\n",
      "  <meta charset=\"utf-8\"/>\n",
      "  <title>\n",
      "   WebOpskrifter.dk - Slankemad og fedtfattige opskrifter\n",
      "  </title>\n",
      "  <meta content=\"Fedtfattige opskrifter til enhver lejlighed, så du altid kan lave lækker slankemad. Her får du hjælp til både dansk og udenlandsk kogekunst - både til hverdag og fest. Få en sundere livstil og opnå varigt vægttab med disse slankeopskrifter.\" name=\"description\"/>\n",
      "  <meta content=\"width=device-width, initial-scale=1.0\" name=\"viewport\"/>\n",
      "  <link href=\"/css/style.css?v=1665392310\" media=\"all\" rel=\"stylesheet\" type=\"text/css\"/>\n",
      "  <link href=\"/css/general.css?v=1662963923\" rel=\"stylesheet\" type=\"text/css\"/>\n",
      "  <link href=\"/css/print.css?v=1663580454\" media=\"print\" rel=\"stylesheet\" type=\"text/css\"/>\n",
      "  <link href=\"/rss/\" rel=\"alternate\" type=\"application/atom+xml\"/>\n",
      "  <meta content=\"yes\" name=\"apple-mobile-web-app-capable\"/>\n",
      "  <link href=\"/gfx/favicon.png\" rel=\"shortcut icon\"/>\n",
      "  <link href=\"/gfx/icon.png\" rel=\"apple-touch-icon-precomposed\"/>\n",
      "  <!-- Social interaction -->\n",
      "  <meta content=\"WebOpskrifter.dk - Slankemad og fedtfattige opskrifter\" property=\"og:title\"/>\n",
      "  <meta content=\"Fedtfattige opskrifter til enhver lejlighed, så du altid kan lave lækker slankemad. Her får du hjælp til både dansk og udenlandsk kogekunst - både til hverdag og fest. Få en sundere livstil og opnå varigt vægttab med disse slankeopskrifter.\" property=\"og:description\"/>\n",
      "  <link href=\"https://www.webopskrifter.dk/\" rel=\"canonical\">\n",
      "   <meta content=\n"
     ]
    }
   ],
   "source": [
    "import bs4\n",
    "import requests\n",
    "\n",
    "\n",
    "r = requests.get('https://www.webopskrifter.dk/')\n",
    "r.raise_for_status()\n",
    "soup = bs4.BeautifulSoup(r.text, 'html.parser')\n",
    "\n",
    "print(soup.prettify()[:1500])"
   ]
  }
 ],
 "metadata": {
  "kernelspec": {
   "display_name": "Python 3 (ipykernel)",
   "language": "python",
   "name": "python3"
  },
  "language_info": {
   "codemirror_mode": {
    "name": "ipython",
    "version": 3
   },
   "file_extension": ".py",
   "mimetype": "text/x-python",
   "name": "python",
   "nbconvert_exporter": "python",
   "pygments_lexer": "ipython3",
   "version": "3.10.6"
  }
 },
 "nbformat": 4,
 "nbformat_minor": 5
}
